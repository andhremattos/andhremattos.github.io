{
 "cells": [
  {
   "cell_type": "markdown",
   "metadata": {
    "colab_type": "text",
    "id": "0Ms5XU6GuMAx"
   },
   "source": [
    "# RAPIDS cuDF"
   ]
  },
  {
   "cell_type": "markdown",
   "metadata": {
    "colab_type": "text",
    "id": "b_CwupkkXa3L"
   },
   "source": [
    "[![Open In Colab](https://colab.research.google.com/assets/colab-badge.svg)](https://colab.research.google.com/github/ritchieng/deep-learning-wizard/blob/master/docs/machine_learning/gpu/rapids_cudf.ipynb)"
   ]
  },
  {
   "cell_type": "markdown",
   "metadata": {
    "colab_type": "text",
    "id": "FkC1RqNMYvwd"
   },
   "source": [
    "## Environment Setup"
   ]
  },
  {
   "cell_type": "markdown",
   "metadata": {
    "colab_type": "text",
    "id": "SCWF5rlsuvbj"
   },
   "source": [
    "### Check Version"
   ]
  },
  {
   "cell_type": "markdown",
   "metadata": {
    "colab_type": "text",
    "id": "tmiXIuf4Y4LR"
   },
   "source": [
    "#### Python Version"
   ]
  },
  {
   "cell_type": "code",
   "execution_count": 1,
   "metadata": {
    "colab": {
     "base_uri": "https://localhost:8080/",
     "height": 35
    },
    "colab_type": "code",
    "id": "jtg8EVlRuxj7",
    "outputId": "2545b7c4-82a0-41f2-9190-402caabb91c3"
   },
   "outputs": [
    {
     "name": "stdout",
     "output_type": "stream",
     "text": [
      "Python 3.6.7\n"
     ]
    }
   ],
   "source": [
    "# Check Python Version\n",
    "!python --version"
   ]
  },
  {
   "cell_type": "markdown",
   "metadata": {
    "colab_type": "text",
    "id": "EsDqrSm5Y6qM"
   },
   "source": [
    "#### Ubuntu Version"
   ]
  },
  {
   "cell_type": "code",
   "execution_count": 2,
   "metadata": {
    "colab": {
     "base_uri": "https://localhost:8080/",
     "height": 107
    },
    "colab_type": "code",
    "id": "UYWxl68Quyv7",
    "outputId": "0245d574-9664-49a1-f11e-e6539f4feb9e"
   },
   "outputs": [
    {
     "name": "stdout",
     "output_type": "stream",
     "text": [
      "No LSB modules are available.\n",
      "Distributor ID:\tUbuntu\n",
      "Description:\tUbuntu 18.04.2 LTS\n",
      "Release:\t18.04\n",
      "Codename:\tbionic\n"
     ]
    }
   ],
   "source": [
    "# Check Ubuntu Version\n",
    "!lsb_release -a"
   ]
  },
  {
   "cell_type": "markdown",
   "metadata": {
    "colab_type": "text",
    "id": "H2WPSwsMY_XE"
   },
   "source": [
    "#### Check CUDA Version"
   ]
  },
  {
   "cell_type": "code",
   "execution_count": 3,
   "metadata": {
    "colab": {
     "base_uri": "https://localhost:8080/",
     "height": 107
    },
    "colab_type": "code",
    "id": "eGAqqUlOuyXF",
    "outputId": "b41338d1-d461-4f7b-b1ef-26218b411c0f"
   },
   "outputs": [
    {
     "name": "stdout",
     "output_type": "stream",
     "text": [
      "nvcc: NVIDIA (R) Cuda compiler driver\n",
      "Copyright (c) 2005-2018 NVIDIA Corporation\n",
      "Built on Sat_Aug_25_21:08:01_CDT_2018\n",
      "Cuda compilation tools, release 10.0, V10.0.130\n",
      "/usr/local/cuda/bin/nvcc\n"
     ]
    }
   ],
   "source": [
    "# Check CUDA/cuDNN Version\n",
    "!nvcc -V && which nvcc"
   ]
  },
  {
   "cell_type": "markdown",
   "metadata": {
    "colab_type": "text",
    "id": "QCr_TZjqZDve"
   },
   "source": [
    "#### Check GPU Version"
   ]
  },
  {
   "cell_type": "code",
   "execution_count": 4,
   "metadata": {
    "colab": {
     "base_uri": "https://localhost:8080/",
     "height": 323
    },
    "colab_type": "code",
    "id": "nAj-Ie3nv-aM",
    "outputId": "be3db4d9-fa2f-453b-ac38-7e5cec87d3ff"
   },
   "outputs": [
    {
     "name": "stdout",
     "output_type": "stream",
     "text": [
      "Mon May 13 09:31:40 2019       \n",
      "+-----------------------------------------------------------------------------+\n",
      "| NVIDIA-SMI 418.56       Driver Version: 410.79       CUDA Version: 10.0     |\n",
      "|-------------------------------+----------------------+----------------------+\n",
      "| GPU  Name        Persistence-M| Bus-Id        Disp.A | Volatile Uncorr. ECC |\n",
      "| Fan  Temp  Perf  Pwr:Usage/Cap|         Memory-Usage | GPU-Util  Compute M. |\n",
      "|===============================+======================+======================|\n",
      "|   0  Tesla T4            Off  | 00000000:00:04.0 Off |                    0 |\n",
      "| N/A   67C    P8    17W /  70W |      0MiB / 15079MiB |      0%      Default |\n",
      "+-------------------------------+----------------------+----------------------+\n",
      "                                                                               \n",
      "+-----------------------------------------------------------------------------+\n",
      "| Processes:                                                       GPU Memory |\n",
      "|  GPU       PID   Type   Process name                             Usage      |\n",
      "|=============================================================================|\n",
      "|  No running processes found                                                 |\n",
      "+-----------------------------------------------------------------------------+\n"
     ]
    }
   ],
   "source": [
    "# Check GPU\n",
    "!nvidia-smi"
   ]
  },
  {
   "cell_type": "markdown",
   "metadata": {
    "colab_type": "text",
    "id": "6OyjkVky6viJ"
   },
   "source": [
    "#### Check GPU if You've Right Version (T4)\n",
    "Many thanks to NVIDIA team for this snippet of code to automatically set up everything."
   ]
  },
  {
   "cell_type": "code",
   "execution_count": 5,
   "metadata": {
    "colab": {
     "base_uri": "https://localhost:8080/",
     "height": 35
    },
    "colab_type": "code",
    "id": "94Fdr-lt6wGv",
    "outputId": "e6a22fb0-e4f1-47df-9724-8773da32020e"
   },
   "outputs": [
    {
     "name": "stdout",
     "output_type": "stream",
     "text": [
      "Woo! You got the right kind of GPU!\n"
     ]
    }
   ],
   "source": [
    "import pynvml\n",
    "\n",
    "pynvml.nvmlInit()\n",
    "handle = pynvml.nvmlDeviceGetHandleByIndex(0)\n",
    "device_name = pynvml.nvmlDeviceGetName(handle)\n",
    "\n",
    "if device_name != b'Tesla T4':\n",
    "  raise Exception(\"\"\"\n",
    "    Unfortunately this instance does not have a T4 GPU.\n",
    "    \n",
    "    Please make sure you've configured Colab to request a GPU instance type.\n",
    "    \n",
    "    Sometimes Colab allocates a Tesla K80 instead of a T4. Resetting the instance.\n",
    "\n",
    "    If you get a K80 GPU, try Runtime -> Reset all runtimes...\n",
    "  \"\"\")\n",
    "else:\n",
    "  print('Woo! You got the right kind of GPU!')"
   ]
  },
  {
   "cell_type": "markdown",
   "metadata": {
    "colab_type": "text",
    "id": "19gRLN_8uvEh"
   },
   "source": [
    "### Installation of cuDF/cuML\n",
    "Many thanks to NVIDIA team for this snippet of code to automatically set up everything."
   ]
  },
  {
   "cell_type": "code",
   "execution_count": 6,
   "metadata": {
    "colab": {
     "base_uri": "https://localhost:8080/",
     "height": 2897
    },
    "colab_type": "code",
    "id": "qZyMvAQp6iwB",
    "outputId": "eb4de5ed-dc59-4340-d73a-eec5de104085"
   },
   "outputs": [
    {
     "name": "stdout",
     "output_type": "stream",
     "text": [
      "--2019-05-13 09:31:42--  https://repo.continuum.io/miniconda/Miniconda3-4.5.4-Linux-x86_64.sh\n",
      "Resolving repo.continuum.io (repo.continuum.io)... 104.18.201.79, 104.18.200.79, 2606:4700::6812:c84f, ...\n",
      "Connecting to repo.continuum.io (repo.continuum.io)|104.18.201.79|:443... connected.\n",
      "HTTP request sent, awaiting response... 200 OK\n",
      "Length: 58468498 (56M) [application/x-sh]\n",
      "Saving to: ‘Miniconda3-4.5.4-Linux-x86_64.sh’\n",
      "\n",
      "Miniconda3-4.5.4-Li 100%[===================>]  55.76M  64.9MB/s    in 0.9s    \n",
      "\n",
      "2019-05-13 09:31:48 (64.9 MB/s) - ‘Miniconda3-4.5.4-Linux-x86_64.sh’ saved [58468498/58468498]\n",
      "\n",
      "PREFIX=/usr/local\n",
      "installing: python-3.6.5-hc3d631a_2 ...\n",
      "Python 3.6.5 :: Anaconda, Inc.\n",
      "installing: ca-certificates-2018.03.07-0 ...\n",
      "installing: conda-env-2.6.0-h36134e3_1 ...\n",
      "installing: libgcc-ng-7.2.0-hdf63c60_3 ...\n",
      "installing: libstdcxx-ng-7.2.0-hdf63c60_3 ...\n",
      "installing: libffi-3.2.1-hd88cf55_4 ...\n",
      "installing: ncurses-6.1-hf484d3e_0 ...\n",
      "installing: openssl-1.0.2o-h20670df_0 ...\n",
      "installing: tk-8.6.7-hc745277_3 ...\n",
      "installing: xz-5.2.4-h14c3975_4 ...\n",
      "installing: yaml-0.1.7-had09818_2 ...\n",
      "installing: zlib-1.2.11-ha838bed_2 ...\n",
      "installing: libedit-3.1.20170329-h6b74fdf_2 ...\n",
      "installing: readline-7.0-ha6073c6_4 ...\n",
      "installing: sqlite-3.23.1-he433501_0 ...\n",
      "installing: asn1crypto-0.24.0-py36_0 ...\n",
      "installing: certifi-2018.4.16-py36_0 ...\n",
      "installing: chardet-3.0.4-py36h0f667ec_1 ...\n",
      "installing: idna-2.6-py36h82fb2a8_1 ...\n",
      "installing: pycosat-0.6.3-py36h0a5515d_0 ...\n",
      "installing: pycparser-2.18-py36hf9f622e_1 ...\n",
      "installing: pysocks-1.6.8-py36_0 ...\n",
      "installing: ruamel_yaml-0.15.37-py36h14c3975_2 ...\n",
      "installing: six-1.11.0-py36h372c433_1 ...\n",
      "installing: cffi-1.11.5-py36h9745a5d_0 ...\n",
      "installing: setuptools-39.2.0-py36_0 ...\n",
      "installing: cryptography-2.2.2-py36h14c3975_0 ...\n",
      "installing: wheel-0.31.1-py36_0 ...\n",
      "installing: pip-10.0.1-py36_0 ...\n",
      "installing: pyopenssl-18.0.0-py36_0 ...\n",
      "installing: urllib3-1.22-py36hbe7ace6_0 ...\n",
      "installing: requests-2.18.4-py36he2e5f8d_1 ...\n",
      "installing: conda-4.5.4-py36_0 ...\n",
      "installation finished.\n",
      "WARNING:\n",
      "    You currently have a PYTHONPATH environment variable set. This may cause\n",
      "    unexpected behavior when running the Python interpreter in Miniconda3.\n",
      "    For best results, please verify that your PYTHONPATH only points to\n",
      "    directories of packages that are compatible with the Python interpreter\n",
      "    in Miniconda3: /usr/local\n",
      "Solving environment: ...working... done\n",
      "\n",
      "## Package Plan ##\n",
      "\n",
      "  environment location: /usr/local\n",
      "\n",
      "  added / updated specs: \n",
      "    - cudf\n",
      "    - cuml\n",
      "\n",
      "\n",
      "The following packages will be downloaded:\n",
      "\n",
      "    package                    |            build\n",
      "    ---------------------------|-----------------\n",
      "    icu-58.2                   |    hf484d3e_1000        22.6 MB  conda-forge\n",
      "    libgcc-ng-8.2.0            |       hdf63c60_1         7.6 MB\n",
      "    sqlite-3.26.0              |    h67949de_1001         1.9 MB  conda-forge\n",
      "    python-3.6.7               |    h381d211_1004        34.5 MB  conda-forge\n",
      "    numpy-1.16.3               |   py36he5ce36f_0         4.3 MB  conda-forge\n",
      "    cudatoolkit-10.0.130       |                0       380.0 MB\n",
      "    libcudf-0.7.0.dev0         |    cuda10.0_1567        21.0 MB  rapidsai-nightly/label/cuda10.0\n",
      "    parquet-cpp-1.5.1          |                4           3 KB  conda-forge\n",
      "    arrow-cpp-0.12.1           |   py36h0e61e49_0         6.9 MB  conda-forge\n",
      "    liblapack-3.8.0            |       9_openblas           6 KB  conda-forge\n",
      "    libstdcxx-ng-8.2.0         |       hdf63c60_1         2.9 MB\n",
      "    libblas-3.8.0              |       9_openblas           6 KB  conda-forge\n",
      "    openssl-1.1.1b             |       h14c3975_1         4.0 MB  conda-forge\n",
      "    cython-0.29.7              |   py36he1b5a44_0         2.2 MB  conda-forge\n",
      "    cryptography-2.6.1         |   py36h72c5cf5_0         606 KB  conda-forge\n",
      "    certifi-2019.3.9           |           py36_0         149 KB  conda-forge\n",
      "    ca-certificates-2019.3.9   |       hecc5488_0         146 KB  conda-forge\n",
      "    tk-8.6.9                   |    h84994c4_1001         3.2 MB  conda-forge\n",
      "    libcuml-0.8.0a             |     cuda10.0_610        24.4 MB  rapidsai-nightly/label/cuda10.0\n",
      "    bzip2-1.0.6                |    h14c3975_1002         415 KB  conda-forge\n",
      "    cuml-0.8.0a                |cuda10.0_py36_610         3.0 MB  rapidsai-nightly/label/cuda10.0\n",
      "    python-dateutil-2.8.0      |             py_0         219 KB  conda-forge\n",
      "    conda-4.6.14               |           py36_0         2.1 MB  conda-forge\n",
      "    openblas-0.3.6             |       h6e990d7_2        15.8 MB  conda-forge\n",
      "    thrift-cpp-0.12.0          |    h0a07b25_1002         2.4 MB  conda-forge\n",
      "    rmm-0.7.0.dev0             |          py36_54          14 KB  rapidsai-nightly/label/cuda10.0\n",
      "    pyarrow-0.12.1             |   py36hbbcf98d_0         2.2 MB  conda-forge\n",
      "    libprotobuf-3.6.1          |    hdbcaa40_1001         4.0 MB  conda-forge\n",
      "    nvstrings-0.7.0.dev0       |         py36_143          88 KB  rapidsai-nightly/label/cuda10.0\n",
      "    librmm-0.7.0.dev0          |      cuda10.0_54          39 KB  rapidsai-nightly/label/cuda10.0\n",
      "    libcblas-3.8.0             |       9_openblas           6 KB  conda-forge\n",
      "    libgfortran-ng-7.3.0       |       hdf63c60_0         1.3 MB\n",
      "    libnvstrings-0.7.0.dev0    |     cuda10.0_132         9.3 MB  rapidsai-nightly/label/cuda10.0\n",
      "    llvmlite-0.28.0            |   py36hdbcaa40_0        20.2 MB  conda-forge\n",
      "    cudf-0.7.0.dev0            |        py36_1568         2.7 MB  rapidsai-nightly/label/cuda10.0\n",
      "    pytz-2019.1                |             py_0         227 KB  conda-forge\n",
      "    numba-0.43.1               |   py36hf2d7682_0         2.9 MB  conda-forge\n",
      "    boost-cpp-1.68.0           |    h11c811c_1000        20.5 MB  conda-forge\n",
      "    pandas-0.24.2              |   py36hf484d3e_0        11.1 MB  conda-forge\n",
      "    libcumlmg-0.0.0.dev0       |     cuda10.0_373         955 KB  nvidia/label/cuda10.0\n",
      "    ------------------------------------------------------------\n",
      "                                           Total:       615.7 MB\n",
      "\n",
      "The following NEW packages will be INSTALLED:\n",
      "\n",
      "    arrow-cpp:       0.12.1-py36h0e61e49_0    conda-forge                    \n",
      "    boost-cpp:       1.68.0-h11c811c_1000     conda-forge                    \n",
      "    bzip2:           1.0.6-h14c3975_1002      conda-forge                    \n",
      "    cudatoolkit:     10.0.130-0                                              \n",
      "    cudf:            0.7.0.dev0-py36_1568     rapidsai-nightly/label/cuda10.0\n",
      "    cuml:            0.8.0a-cuda10.0_py36_610 rapidsai-nightly/label/cuda10.0\n",
      "    cython:          0.29.7-py36he1b5a44_0    conda-forge                    \n",
      "    icu:             58.2-hf484d3e_1000       conda-forge                    \n",
      "    libblas:         3.8.0-9_openblas         conda-forge                    \n",
      "    libcblas:        3.8.0-9_openblas         conda-forge                    \n",
      "    libcudf:         0.7.0.dev0-cuda10.0_1567 rapidsai-nightly/label/cuda10.0\n",
      "    libcuml:         0.8.0a-cuda10.0_610      rapidsai-nightly/label/cuda10.0\n",
      "    libcumlmg:       0.0.0.dev0-cuda10.0_373  nvidia/label/cuda10.0          \n",
      "    libgfortran-ng:  7.3.0-hdf63c60_0                                        \n",
      "    liblapack:       3.8.0-9_openblas         conda-forge                    \n",
      "    libnvstrings:    0.7.0.dev0-cuda10.0_132  rapidsai-nightly/label/cuda10.0\n",
      "    libprotobuf:     3.6.1-hdbcaa40_1001      conda-forge                    \n",
      "    librmm:          0.7.0.dev0-cuda10.0_54   rapidsai-nightly/label/cuda10.0\n",
      "    llvmlite:        0.28.0-py36hdbcaa40_0    conda-forge                    \n",
      "    numba:           0.43.1-py36hf2d7682_0    conda-forge                    \n",
      "    numpy:           1.16.3-py36he5ce36f_0    conda-forge                    \n",
      "    nvstrings:       0.7.0.dev0-py36_143      rapidsai-nightly/label/cuda10.0\n",
      "    openblas:        0.3.6-h6e990d7_2         conda-forge                    \n",
      "    pandas:          0.24.2-py36hf484d3e_0    conda-forge                    \n",
      "    parquet-cpp:     1.5.1-4                  conda-forge                    \n",
      "    pyarrow:         0.12.1-py36hbbcf98d_0    conda-forge                    \n",
      "    python-dateutil: 2.8.0-py_0               conda-forge                    \n",
      "    pytz:            2019.1-py_0              conda-forge                    \n",
      "    rmm:             0.7.0.dev0-py36_54       rapidsai-nightly/label/cuda10.0\n",
      "    thrift-cpp:      0.12.0-h0a07b25_1002     conda-forge                    \n",
      "\n",
      "The following packages will be UPDATED:\n",
      "\n",
      "    ca-certificates: 2018.03.07-0                                             --> 2019.3.9-hecc5488_0  conda-forge\n",
      "    certifi:         2018.4.16-py36_0                                         --> 2019.3.9-py36_0      conda-forge\n",
      "    conda:           4.5.4-py36_0                                             --> 4.6.14-py36_0        conda-forge\n",
      "    cryptography:    2.2.2-py36h14c3975_0                                     --> 2.6.1-py36h72c5cf5_0 conda-forge\n",
      "    libgcc-ng:       7.2.0-hdf63c60_3                                         --> 8.2.0-hdf63c60_1                \n",
      "    libstdcxx-ng:    7.2.0-hdf63c60_3                                         --> 8.2.0-hdf63c60_1                \n",
      "    openssl:         1.0.2o-h20670df_0                                        --> 1.1.1b-h14c3975_1    conda-forge\n",
      "    python:          3.6.5-hc3d631a_2                                         --> 3.6.7-h381d211_1004  conda-forge\n",
      "    sqlite:          3.23.1-he433501_0                                        --> 3.26.0-h67949de_1001 conda-forge\n",
      "    tk:              8.6.7-hc745277_3                                         --> 8.6.9-h84994c4_1001  conda-forge\n",
      "\n",
      "Preparing transaction: ...working... done\n",
      "Verifying transaction: ...working... done\n",
      "Executing transaction: ...working... done\n"
     ]
    }
   ],
   "source": [
    "# intall miniconda\n",
    "!wget -c https://repo.continuum.io/miniconda/Miniconda3-4.5.4-Linux-x86_64.sh\n",
    "!chmod +x Miniconda3-4.5.4-Linux-x86_64.sh\n",
    "!bash ./Miniconda3-4.5.4-Linux-x86_64.sh -b -f -p /usr/local\n",
    "\n",
    "# install RAPIDS packages\n",
    "!conda install -q -y --prefix /usr/local -c conda-forge \\\n",
    "  -c rapidsai-nightly/label/cuda10.0 -c nvidia/label/cuda10.0 \\\n",
    "  cudf cuml\n",
    "\n",
    "# set environment vars\n",
    "import sys, os, shutil\n",
    "sys.path.append('/usr/local/lib/python3.6/site-packages/')\n",
    "os.environ['NUMBAPRO_NVVM'] = '/usr/local/cuda/nvvm/lib64/libnvvm.so'\n",
    "os.environ['NUMBAPRO_LIBDEVICE'] = '/usr/local/cuda/nvvm/libdevice/'\n",
    "\n",
    "# copy .so files to current working dir\n",
    "for fn in ['libcudf.so', 'librmm.so']:\n",
    "  shutil.copy('/usr/local/lib/'+fn, os.getcwd())"
   ]
  },
  {
   "cell_type": "markdown",
   "metadata": {
    "colab_type": "text",
    "id": "fweFyNRw00So"
   },
   "source": [
    "## Critical Imports"
   ]
  },
  {
   "cell_type": "code",
   "execution_count": 0,
   "metadata": {
    "colab": {},
    "colab_type": "code",
    "collapsed": true,
    "id": "hUagBPMOuMAy"
   },
   "outputs": [],
   "source": [
    "# Critical imports\n",
    "import nvstrings, nvcategory, cudf\n",
    "import cuml\n",
    "import os\n",
    "import numpy as np\n",
    "import pandas as pd"
   ]
  },
  {
   "cell_type": "markdown",
   "metadata": {
    "colab_type": "text",
    "id": "744SJmhKZVxM"
   },
   "source": [
    "## Creating"
   ]
  },
  {
   "cell_type": "markdown",
   "metadata": {
    "colab_type": "text",
    "id": "3JnrTcYak4o9"
   },
   "source": [
    "### Create a Series of integers"
   ]
  },
  {
   "cell_type": "code",
   "execution_count": 25,
   "metadata": {
    "colab": {
     "base_uri": "https://localhost:8080/",
     "height": 161
    },
    "colab_type": "code",
    "id": "47BX3RCquMA3",
    "outputId": "c777699b-af3f-4a65-eccb-86bc42ca6c81"
   },
   "outputs": [
    {
     "name": "stdout",
     "output_type": "stream",
     "text": [
      "0    1\n",
      "1    2\n",
      "2    3\n",
      "3    4\n",
      "4    5\n",
      "5    6\n",
      "dtype: int64\n",
      "<class 'cudf.dataframe.series.Series'>\n"
     ]
    }
   ],
   "source": [
    "gdf = cudf.Series([1, 2, 3, 4, 5, 6])\n",
    "print(gdf)\n",
    "print(type(gdf))"
   ]
  },
  {
   "cell_type": "markdown",
   "metadata": {
    "colab_type": "text",
    "id": "Z1ALZGBiuMBD"
   },
   "source": [
    "### Create a Series of floats"
   ]
  },
  {
   "cell_type": "code",
   "execution_count": 26,
   "metadata": {
    "colab": {
     "base_uri": "https://localhost:8080/",
     "height": 143
    },
    "colab_type": "code",
    "id": "XzyOT3TwuMBD",
    "outputId": "d42a332a-ebad-4312-b6bf-21bfc3fbc8ae"
   },
   "outputs": [
    {
     "name": "stdout",
     "output_type": "stream",
     "text": [
      "0    1.0\n",
      "1    2.0\n",
      "2    3.0\n",
      "3    4.0\n",
      "4    5.0\n",
      "5    6.0\n",
      "dtype: float64\n"
     ]
    }
   ],
   "source": [
    "gdf = cudf.Series([1., 2., 3., 4., 5., 6.])\n",
    "print(gdf)"
   ]
  },
  {
   "cell_type": "markdown",
   "metadata": {
    "colab_type": "text",
    "id": "vR8N2cvZlZ2L"
   },
   "source": [
    "### Create a  Series of strings\n"
   ]
  },
  {
   "cell_type": "code",
   "execution_count": 27,
   "metadata": {
    "colab": {
     "base_uri": "https://localhost:8080/",
     "height": 89
    },
    "colab_type": "code",
    "id": "q7bUCSAYla2j",
    "outputId": "33e8403b-2da8-446c-b6d0-ae5cee6415c2"
   },
   "outputs": [
    {
     "name": "stdout",
     "output_type": "stream",
     "text": [
      "0    a\n",
      "1    b\n",
      "2    c\n",
      "dtype: object\n"
     ]
    }
   ],
   "source": [
    "gdf = cudf.Series(['a', 'b', 'c'])\n",
    "print(gdf)"
   ]
  },
  {
   "cell_type": "markdown",
   "metadata": {
    "colab_type": "text",
    "id": "XIdFWUHguMBK"
   },
   "source": [
    "### Create 3 column DataFrame\n",
    "- Consisting of dates, integers and floats"
   ]
  },
  {
   "cell_type": "code",
   "execution_count": 28,
   "metadata": {
    "colab": {
     "base_uri": "https://localhost:8080/",
     "height": 215
    },
    "colab_type": "code",
    "id": "25v_tf7DuMBL",
    "outputId": "45fc3beb-9d59-475e-fc63-a558a3b5c2d4"
   },
   "outputs": [
    {
     "name": "stdout",
     "output_type": "stream",
     "text": [
      "                     dates  integers  floats\n",
      "0 2019-01-01T00:00:00.000         0     0.0\n",
      "1 2019-01-02T00:00:00.000         1     1.0\n",
      "2 2019-01-03T00:00:00.000         2     2.0\n",
      "3 2019-01-04T00:00:00.000         3     3.0\n",
      "4 2019-01-07T00:00:00.000         4     4.0\n",
      "5 2019-01-08T00:00:00.000         5     5.0\n",
      "6 2019-01-09T00:00:00.000         6     6.0\n",
      "7 2019-01-10T00:00:00.000         7     7.0\n",
      "8 2019-01-11T00:00:00.000         8     8.0\n",
      "9 2019-01-14T00:00:00.000         9     9.0\n"
     ]
    }
   ],
   "source": [
    "# Import\n",
    "import datetime as dt\n",
    "\n",
    "# Using a list of tuples\n",
    "# Each element in the list represents a category\n",
    "# The first element of the tuple is the category's name\n",
    "# The second element of the tuple is a list of the values in that category\n",
    "gdf = cudf.DataFrame([\n",
    "    # Create 10 busindates ess from 1st January 2019 via pandas\n",
    "    ('dates', pd.date_range('1/1/2019', periods=10, freq='B')),\n",
    "    # Integers\n",
    "    ('integers', [i for i in range(10)]),\n",
    "    # Floats\n",
    "    ('floats', [float(i) for i in range(10)])\n",
    "])\n",
    "\n",
    "# Print dataframe\n",
    "print(gdf)"
   ]
  },
  {
   "cell_type": "markdown",
   "metadata": {
    "colab_type": "text",
    "id": "QZ0vAkRMuMBq"
   },
   "source": [
    "### Create 2 column Dataframe\n",
    "- Consisting of integers and string category"
   ]
  },
  {
   "cell_type": "code",
   "execution_count": 29,
   "metadata": {
    "colab": {
     "base_uri": "https://localhost:8080/",
     "height": 107
    },
    "colab_type": "code",
    "id": "r0ekcLUUkRhp",
    "outputId": "fc9d2325-10b6-422b-c002-ba00d111ef45"
   },
   "outputs": [
    {
     "name": "stdout",
     "output_type": "stream",
     "text": [
      "   integers  string\n",
      "0         1       a\n",
      "1         2       b\n",
      "2         3       c\n",
      "3         4       d\n"
     ]
    }
   ],
   "source": [
    "# Using a list of tuples\n",
    "# Each element in the list represents a category\n",
    "# The first element of the tuple is the category's name\n",
    "# The second element of the tuple is a list of the values in that category\n",
    "gdf = cudf.DataFrame([\n",
    "    ('integers', [1 ,2, 3, 4]),\n",
    "    ('string', ['a', 'b', 'c', 'd'])\n",
    "])\n",
    "\n",
    "print(gdf)"
   ]
  },
  {
   "cell_type": "markdown",
   "metadata": {
    "colab_type": "text",
    "id": "cYur43-mkSFt"
   },
   "source": [
    "### Create a 2 Column  Dataframe with Pandas Bridge\n",
    "- Consisting of integers and string category\n",
    "- For all string columns, you must convert them to type `category` for filtering functions to work intuitively (for now)"
   ]
  },
  {
   "cell_type": "code",
   "execution_count": 30,
   "metadata": {
    "colab": {
     "base_uri": "https://localhost:8080/",
     "height": 107
    },
    "colab_type": "code",
    "id": "NfazAxmeuMBr",
    "outputId": "5283bd79-6f14-4c86-caeb-ea8949904cdf"
   },
   "outputs": [
    {
     "name": "stdout",
     "output_type": "stream",
     "text": [
      "   integers  strings\n",
      "0         1        a\n",
      "1         2        b\n",
      "2         3        c\n",
      "3         4        d\n"
     ]
    }
   ],
   "source": [
    "# Create pandas dataframe\n",
    "pandas_df = pd.DataFrame({\n",
    "    'integers': [1, 2, 3, 4], \n",
    "    'strings': ['a', 'b', 'c', 'd']\n",
    "})\n",
    "\n",
    "# Convert string column to category format\n",
    "pandas_df['strings'] = pandas_df['strings'].astype('category')\n",
    "\n",
    "# Bridge from pandas to cudf\n",
    "gdf = cudf.DataFrame.from_pandas(pandas_df)\n",
    "\n",
    "# Print dataframe\n",
    "print(gdf)"
   ]
  },
  {
   "cell_type": "markdown",
   "metadata": {
    "colab_type": "text",
    "id": "RztyNiUgsZam"
   },
   "source": [
    "## Viewing"
   ]
  },
  {
   "cell_type": "markdown",
   "metadata": {
    "colab_type": "text",
    "id": "jhcu9eJeuMBv"
   },
   "source": [
    "### Printing Column Names"
   ]
  },
  {
   "cell_type": "code",
   "execution_count": 31,
   "metadata": {
    "colab": {
     "base_uri": "https://localhost:8080/",
     "height": 35
    },
    "colab_type": "code",
    "id": "hyFl4bVIuMBw",
    "outputId": "67f0c114-5fcf-4f07-f61f-0c58ee759dc5"
   },
   "outputs": [
    {
     "data": {
      "text/plain": [
       "Index(['integers', 'strings'], dtype='object')"
      ]
     },
     "execution_count": 31,
     "metadata": {
      "tags": []
     },
     "output_type": "execute_result"
    }
   ],
   "source": [
    "gdf.columns"
   ]
  },
  {
   "cell_type": "markdown",
   "metadata": {
    "colab_type": "text",
    "id": "M0Bsluijsdff"
   },
   "source": [
    "### Viewing Top of DataFrame"
   ]
  },
  {
   "cell_type": "code",
   "execution_count": 39,
   "metadata": {
    "colab": {
     "base_uri": "https://localhost:8080/",
     "height": 71
    },
    "colab_type": "code",
    "id": "PqSR0UF7shPR",
    "outputId": "7d75af31-f001-4a3d-da3e-c4c37d65f289"
   },
   "outputs": [
    {
     "name": "stdout",
     "output_type": "stream",
     "text": [
      "   integers  strings\n",
      "0         1        a\n",
      "1         2        b\n"
     ]
    }
   ],
   "source": [
    "num_of_rows_to_view = 2 \n",
    "print(gdf.head(num_of_rows_to_view))"
   ]
  },
  {
   "cell_type": "markdown",
   "metadata": {
    "colab_type": "text",
    "id": "Z8xtzd4nshhs"
   },
   "source": [
    "### Viewing Bottom of DataFrame"
   ]
  },
  {
   "cell_type": "code",
   "execution_count": 40,
   "metadata": {
    "colab": {
     "base_uri": "https://localhost:8080/",
     "height": 89
    },
    "colab_type": "code",
    "id": "_ILChz7MshrR",
    "outputId": "2311bd5c-a6f6-4c38-a335-25924f902883"
   },
   "outputs": [
    {
     "name": "stdout",
     "output_type": "stream",
     "text": [
      "   integers  strings\n",
      "1         2        b\n",
      "2         3        c\n",
      "3         4        d\n"
     ]
    }
   ],
   "source": [
    "num_of_rows_to_view = 3 \n",
    "print(gdf.tail(num_of_rows_to_view))"
   ]
  },
  {
   "cell_type": "markdown",
   "metadata": {
    "colab_type": "text",
    "id": "0MroNULxs1Gd"
   },
   "source": [
    "## Filtering"
   ]
  },
  {
   "cell_type": "markdown",
   "metadata": {
    "colab_type": "text",
    "id": "0thpCjlItLTh"
   },
   "source": [
    "### Method 1: Query"
   ]
  },
  {
   "cell_type": "markdown",
   "metadata": {
    "colab_type": "text",
    "id": "3GvIGth-K_ng"
   },
   "source": [
    "#### Filtering Integers/Floats by Column Values\n",
    "- This only works for floats and integers, not for strings"
   ]
  },
  {
   "cell_type": "code",
   "execution_count": 32,
   "metadata": {
    "colab": {
     "base_uri": "https://localhost:8080/",
     "height": 53
    },
    "colab_type": "code",
    "id": "y6PBAQasLYfi",
    "outputId": "58c5c274-3bde-4c10-c5d9-424f674e30c4"
   },
   "outputs": [
    {
     "name": "stdout",
     "output_type": "stream",
     "text": [
      "   integers  strings\n",
      "0         1        a\n"
     ]
    }
   ],
   "source": [
    "print(gdf.query('integers == 1'))"
   ]
  },
  {
   "cell_type": "markdown",
   "metadata": {
    "colab_type": "text",
    "id": "YZx6HN1AL3BD"
   },
   "source": [
    "#### Filtering Strings by Column Values\n",
    "- This only works for floats and integers, not for strings so this will return an error!"
   ]
  },
  {
   "cell_type": "code",
   "execution_count": 33,
   "metadata": {
    "colab": {
     "base_uri": "https://localhost:8080/",
     "height": 322
    },
    "colab_type": "code",
    "id": "QEtFUprCMCBB",
    "outputId": "413ac83b-7fb2-4909-a9b4-3dcc655f5f86"
   },
   "outputs": [
    {
     "ename": "KeyError",
     "evalue": "ignored",
     "output_type": "error",
     "traceback": [
      "\u001b[0;31m---------------------------------------------------------------------------\u001b[0m",
      "\u001b[0;31mKeyError\u001b[0m                                  Traceback (most recent call last)",
      "\u001b[0;32m<ipython-input-33-5cfd0345d51c>\u001b[0m in \u001b[0;36m<module>\u001b[0;34m()\u001b[0m\n\u001b[0;32m----> 1\u001b[0;31m \u001b[0mprint\u001b[0m\u001b[0;34m(\u001b[0m\u001b[0mgdf\u001b[0m\u001b[0;34m.\u001b[0m\u001b[0mquery\u001b[0m\u001b[0;34m(\u001b[0m\u001b[0;34m'strings == a'\u001b[0m\u001b[0;34m)\u001b[0m\u001b[0;34m)\u001b[0m\u001b[0;34m\u001b[0m\u001b[0;34m\u001b[0m\u001b[0m\n\u001b[0m",
      "\u001b[0;32m/usr/local/lib/python3.6/site-packages/cudf/dataframe/dataframe.py\u001b[0m in \u001b[0;36mquery\u001b[0;34m(self, expr, local_dict)\u001b[0m\n\u001b[1;32m   1905\u001b[0m         }\n\u001b[1;32m   1906\u001b[0m         \u001b[0;31m# Run query\u001b[0m\u001b[0;34m\u001b[0m\u001b[0;34m\u001b[0m\u001b[0;34m\u001b[0m\u001b[0m\n\u001b[0;32m-> 1907\u001b[0;31m         \u001b[0mboolmask\u001b[0m \u001b[0;34m=\u001b[0m \u001b[0mqueryutils\u001b[0m\u001b[0;34m.\u001b[0m\u001b[0mquery_execute\u001b[0m\u001b[0;34m(\u001b[0m\u001b[0mself\u001b[0m\u001b[0;34m,\u001b[0m \u001b[0mexpr\u001b[0m\u001b[0;34m,\u001b[0m \u001b[0mcallenv\u001b[0m\u001b[0;34m)\u001b[0m\u001b[0;34m\u001b[0m\u001b[0;34m\u001b[0m\u001b[0m\n\u001b[0m\u001b[1;32m   1908\u001b[0m \u001b[0;34m\u001b[0m\u001b[0m\n\u001b[1;32m   1909\u001b[0m         \u001b[0mselected\u001b[0m \u001b[0;34m=\u001b[0m \u001b[0mSeries\u001b[0m\u001b[0;34m(\u001b[0m\u001b[0mboolmask\u001b[0m\u001b[0;34m)\u001b[0m\u001b[0;34m\u001b[0m\u001b[0;34m\u001b[0m\u001b[0m\n",
      "\u001b[0;32m/usr/local/lib/python3.6/site-packages/cudf/utils/queryutils.py\u001b[0m in \u001b[0;36mquery_execute\u001b[0;34m(df, expr, callenv)\u001b[0m\n\u001b[1;32m    215\u001b[0m             \u001b[0menvargs\u001b[0m\u001b[0;34m.\u001b[0m\u001b[0mappend\u001b[0m\u001b[0;34m(\u001b[0m\u001b[0mval\u001b[0m\u001b[0;34m)\u001b[0m\u001b[0;34m\u001b[0m\u001b[0;34m\u001b[0m\u001b[0m\n\u001b[1;32m    216\u001b[0m     \u001b[0;31m# prepare col args\u001b[0m\u001b[0;34m\u001b[0m\u001b[0;34m\u001b[0m\u001b[0;34m\u001b[0m\u001b[0m\n\u001b[0;32m--> 217\u001b[0;31m     \u001b[0mcolarrays\u001b[0m \u001b[0;34m=\u001b[0m \u001b[0;34m[\u001b[0m\u001b[0mdf\u001b[0m\u001b[0;34m[\u001b[0m\u001b[0mcol\u001b[0m\u001b[0;34m]\u001b[0m\u001b[0;34m.\u001b[0m\u001b[0mto_gpu_array\u001b[0m\u001b[0;34m(\u001b[0m\u001b[0;34m)\u001b[0m \u001b[0;32mfor\u001b[0m \u001b[0mcol\u001b[0m \u001b[0;32min\u001b[0m \u001b[0mcompiled\u001b[0m\u001b[0;34m[\u001b[0m\u001b[0;34m'colnames'\u001b[0m\u001b[0;34m]\u001b[0m\u001b[0;34m]\u001b[0m\u001b[0;34m\u001b[0m\u001b[0;34m\u001b[0m\u001b[0m\n\u001b[0m\u001b[1;32m    218\u001b[0m     \u001b[0;31m# allocate output buffer\u001b[0m\u001b[0;34m\u001b[0m\u001b[0;34m\u001b[0m\u001b[0;34m\u001b[0m\u001b[0m\n\u001b[1;32m    219\u001b[0m     \u001b[0mnrows\u001b[0m \u001b[0;34m=\u001b[0m \u001b[0mlen\u001b[0m\u001b[0;34m(\u001b[0m\u001b[0mdf\u001b[0m\u001b[0;34m)\u001b[0m\u001b[0;34m\u001b[0m\u001b[0;34m\u001b[0m\u001b[0m\n",
      "\u001b[0;32m/usr/local/lib/python3.6/site-packages/cudf/utils/queryutils.py\u001b[0m in \u001b[0;36m<listcomp>\u001b[0;34m(.0)\u001b[0m\n\u001b[1;32m    215\u001b[0m             \u001b[0menvargs\u001b[0m\u001b[0;34m.\u001b[0m\u001b[0mappend\u001b[0m\u001b[0;34m(\u001b[0m\u001b[0mval\u001b[0m\u001b[0;34m)\u001b[0m\u001b[0;34m\u001b[0m\u001b[0;34m\u001b[0m\u001b[0m\n\u001b[1;32m    216\u001b[0m     \u001b[0;31m# prepare col args\u001b[0m\u001b[0;34m\u001b[0m\u001b[0;34m\u001b[0m\u001b[0;34m\u001b[0m\u001b[0m\n\u001b[0;32m--> 217\u001b[0;31m     \u001b[0mcolarrays\u001b[0m \u001b[0;34m=\u001b[0m \u001b[0;34m[\u001b[0m\u001b[0mdf\u001b[0m\u001b[0;34m[\u001b[0m\u001b[0mcol\u001b[0m\u001b[0;34m]\u001b[0m\u001b[0;34m.\u001b[0m\u001b[0mto_gpu_array\u001b[0m\u001b[0;34m(\u001b[0m\u001b[0;34m)\u001b[0m \u001b[0;32mfor\u001b[0m \u001b[0mcol\u001b[0m \u001b[0;32min\u001b[0m \u001b[0mcompiled\u001b[0m\u001b[0;34m[\u001b[0m\u001b[0;34m'colnames'\u001b[0m\u001b[0;34m]\u001b[0m\u001b[0;34m]\u001b[0m\u001b[0;34m\u001b[0m\u001b[0;34m\u001b[0m\u001b[0m\n\u001b[0m\u001b[1;32m    218\u001b[0m     \u001b[0;31m# allocate output buffer\u001b[0m\u001b[0;34m\u001b[0m\u001b[0;34m\u001b[0m\u001b[0;34m\u001b[0m\u001b[0m\n\u001b[1;32m    219\u001b[0m     \u001b[0mnrows\u001b[0m \u001b[0;34m=\u001b[0m \u001b[0mlen\u001b[0m\u001b[0;34m(\u001b[0m\u001b[0mdf\u001b[0m\u001b[0;34m)\u001b[0m\u001b[0;34m\u001b[0m\u001b[0;34m\u001b[0m\u001b[0m\n",
      "\u001b[0;32m/usr/local/lib/python3.6/site-packages/cudf/dataframe/dataframe.py\u001b[0m in \u001b[0;36m__getitem__\u001b[0;34m(self, arg)\u001b[0m\n\u001b[1;32m    230\u001b[0m             \u001b[0;32mreturn\u001b[0m \u001b[0mself\u001b[0m\u001b[0;34m.\u001b[0m\u001b[0mcolumns\u001b[0m\u001b[0;34m.\u001b[0m\u001b[0m_get_column_major\u001b[0m\u001b[0;34m(\u001b[0m\u001b[0mself\u001b[0m\u001b[0;34m,\u001b[0m \u001b[0marg\u001b[0m\u001b[0;34m)\u001b[0m\u001b[0;34m\u001b[0m\u001b[0;34m\u001b[0m\u001b[0m\n\u001b[1;32m    231\u001b[0m         \u001b[0;32mif\u001b[0m \u001b[0misinstance\u001b[0m\u001b[0;34m(\u001b[0m\u001b[0marg\u001b[0m\u001b[0;34m,\u001b[0m \u001b[0;34m(\u001b[0m\u001b[0mstr\u001b[0m\u001b[0;34m,\u001b[0m \u001b[0mnumbers\u001b[0m\u001b[0;34m.\u001b[0m\u001b[0mNumber\u001b[0m\u001b[0;34m)\u001b[0m\u001b[0;34m)\u001b[0m \u001b[0;32mor\u001b[0m \u001b[0misinstance\u001b[0m\u001b[0;34m(\u001b[0m\u001b[0marg\u001b[0m\u001b[0;34m,\u001b[0m \u001b[0mtuple\u001b[0m\u001b[0;34m)\u001b[0m\u001b[0;34m:\u001b[0m\u001b[0;34m\u001b[0m\u001b[0;34m\u001b[0m\u001b[0m\n\u001b[0;32m--> 232\u001b[0;31m             \u001b[0ms\u001b[0m \u001b[0;34m=\u001b[0m \u001b[0mself\u001b[0m\u001b[0;34m.\u001b[0m\u001b[0m_cols\u001b[0m\u001b[0;34m[\u001b[0m\u001b[0marg\u001b[0m\u001b[0;34m]\u001b[0m\u001b[0;34m\u001b[0m\u001b[0;34m\u001b[0m\u001b[0m\n\u001b[0m\u001b[1;32m    233\u001b[0m             \u001b[0ms\u001b[0m\u001b[0;34m.\u001b[0m\u001b[0mname\u001b[0m \u001b[0;34m=\u001b[0m \u001b[0marg\u001b[0m\u001b[0;34m\u001b[0m\u001b[0;34m\u001b[0m\u001b[0m\n\u001b[1;32m    234\u001b[0m             \u001b[0ms\u001b[0m\u001b[0;34m.\u001b[0m\u001b[0mindex\u001b[0m \u001b[0;34m=\u001b[0m \u001b[0mself\u001b[0m\u001b[0;34m.\u001b[0m\u001b[0mindex\u001b[0m\u001b[0;34m\u001b[0m\u001b[0;34m\u001b[0m\u001b[0m\n",
      "\u001b[0;31mKeyError\u001b[0m: 'a'"
     ]
    }
   ],
   "source": [
    "print(gdf.query('strings == a'))"
   ]
  },
  {
   "cell_type": "markdown",
   "metadata": {
    "colab_type": "text",
    "id": "lSCM4JjQtTLm"
   },
   "source": [
    "### Method 2:  Simple Columns"
   ]
  },
  {
   "cell_type": "markdown",
   "metadata": {
    "colab_type": "text",
    "id": "Uay_v7yYMeH4"
   },
   "source": [
    "#### Filtering Strings by Column Values\n"
   ]
  },
  {
   "cell_type": "code",
   "execution_count": 34,
   "metadata": {
    "colab": {
     "base_uri": "https://localhost:8080/",
     "height": 53
    },
    "colab_type": "code",
    "id": "152skbpUuMB0",
    "outputId": "fc892efb-b076-40c5-8faf-5da0a47daa44"
   },
   "outputs": [
    {
     "name": "stdout",
     "output_type": "stream",
     "text": [
      "   integers  strings\n",
      "1         2        b\n"
     ]
    }
   ],
   "source": [
    "# Filtering based on the string column\n",
    "print(gdf[gdf.strings == 'b'])"
   ]
  },
  {
   "cell_type": "markdown",
   "metadata": {
    "colab_type": "text",
    "id": "7pttT0CeuMB-"
   },
   "source": [
    "####Filtering Integers/Floats by Column Values"
   ]
  },
  {
   "cell_type": "code",
   "execution_count": 35,
   "metadata": {
    "colab": {
     "base_uri": "https://localhost:8080/",
     "height": 53
    },
    "colab_type": "code",
    "id": "RA8I5SrbzXGo",
    "outputId": "a18fe9ae-c01c-4dff-a1e4-ede96e55dfd7"
   },
   "outputs": [
    {
     "name": "stdout",
     "output_type": "stream",
     "text": [
      "   integers  strings\n",
      "1         2        b\n"
     ]
    }
   ],
   "source": [
    "# Filtering based on the string column\n",
    "print(gdf[gdf.integers == 2])"
   ]
  },
  {
   "cell_type": "markdown",
   "metadata": {
    "colab_type": "text",
    "id": "XSIzUBhAILv2"
   },
   "source": [
    "### Method 2:  Simple Rows"
   ]
  },
  {
   "cell_type": "markdown",
   "metadata": {
    "colab_type": "text",
    "id": "ODdEd8S0IMVT"
   },
   "source": [
    "#### Filtering by Row Numbers"
   ]
  },
  {
   "cell_type": "code",
   "execution_count": 41,
   "metadata": {
    "colab": {
     "base_uri": "https://localhost:8080/",
     "height": 71
    },
    "colab_type": "code",
    "id": "aG1ovxCGj0ON",
    "outputId": "d6fe114a-1579-4bf5-9c2c-be990d36a7ec"
   },
   "outputs": [
    {
     "name": "stdout",
     "output_type": "stream",
     "text": [
      "   integers  strings\n",
      "0         1        a\n",
      "1         2        b\n"
     ]
    }
   ],
   "source": [
    "# Filter rows 0 to 2 (not inclusive of the third row with the index 2)\n",
    "print(gdf[0:2])"
   ]
  },
  {
   "cell_type": "markdown",
   "metadata": {
    "colab_type": "text",
    "id": "F7DUhC5zj2SM"
   },
   "source": [
    "### Method 3:  loc[rows, columns]"
   ]
  },
  {
   "cell_type": "code",
   "execution_count": 46,
   "metadata": {
    "colab": {
     "base_uri": "https://localhost:8080/",
     "height": 89
    },
    "colab_type": "code",
    "id": "KJjt9NJ0szos",
    "outputId": "7a478272-bbc2-4ea2-863b-c8798f7676db"
   },
   "outputs": [
    {
     "name": "stdout",
     "output_type": "stream",
     "text": [
      "   integers\n",
      "0         1\n",
      "1         2\n",
      "2         3\n"
     ]
    }
   ],
   "source": [
    "# The syntax is as follows loc[rows, columns] allowing you to choose rows and columns accordingly\n",
    "# The example allows us to filter the first 3 rows (inclusive) of the column integers\n",
    "print(gdf.loc[0:2, ['integers']])"
   ]
  },
  {
   "cell_type": "code",
   "execution_count": 0,
   "metadata": {
    "colab": {},
    "colab_type": "code",
    "collapsed": true,
    "id": "7ipw5CUMuNPa"
   },
   "outputs": [],
   "source": []
  }
 ],
 "metadata": {
  "accelerator": "GPU",
  "colab": {
   "collapsed_sections": [],
   "name": "rapids_cudf.ipynb",
   "provenance": [],
   "version": "0.3.2"
  },
  "kernelspec": {
   "display_name": "Python 3",
   "language": "python",
   "name": "python3"
  },
  "language_info": {
   "codemirror_mode": {
    "name": "ipython",
    "version": 3
   },
   "file_extension": ".py",
   "mimetype": "text/x-python",
   "name": "python",
   "nbconvert_exporter": "python",
   "pygments_lexer": "ipython3",
   "version": "3.6.2"
  }
 },
 "nbformat": 4,
 "nbformat_minor": 1
}
